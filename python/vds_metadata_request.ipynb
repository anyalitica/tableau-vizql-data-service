{
  "cells": [
    {
      "cell_type": "markdown",
      "metadata": {
        "id": "96rpJh4B2sy-"
      },
      "source": [
        "# Import libraries"
      ]
    },
    {
      "cell_type": "code",
      "execution_count": null,
      "metadata": {
        "id": "_cdWwjMWISGt"
      },
      "outputs": [],
      "source": [
        "import requests\n",
        "import json"
      ]
    },
    {
      "cell_type": "markdown",
      "metadata": {
        "id": "N0t3NXTd1D4w"
      },
      "source": [
        "# Configure variables to connect to Tableau Online"
      ]
    },
    {
      "cell_type": "code",
      "execution_count": null,
      "metadata": {
        "id": "F9RZOrXe0-3M"
      },
      "outputs": [],
      "source": [
        "# Tableau Online credentials\n",
        "server_url = 'your_server_url'  # Replace with your Tableau Online server URL\n",
        "site_content_url = 'your_site_content_url'  # Replace with your Tableau site ID\n",
        "api_version = 'v1'  # Use the version of VizQL Data Service API compatible with your Tableau instance\n",
        "pat_name = 'your_pat_name'  # Replace with your token name\n",
        "pat_secret = 'your_pat_secret'  # Replace with your access token secret\n",
        "\n",
        "# Name of the datasource for which metadata will be retrieved\n",
        "# The sample data source that is used in this example is stored in the sample_data folder\n",
        "datasource = 'coffee_orders'  # Replace with the specific name of your datasource in Tableau"
      ]
    },
    {
      "cell_type": "markdown",
      "metadata": {
        "id": "HxSluCEU2CcV"
      },
      "source": [
        "# Configure the VDS API connection"
      ]
    },
    {
      "cell_type": "code",
      "execution_count": null,
      "metadata": {
        "id": "Qk069Obf1mYi"
      },
      "outputs": [],
      "source": [
        "# VizQL API connection details\n",
        "hbi_subdomain = \"tools/tableau/headless-bi\"  # Path segment for VizQL Headless BI API endpoint\n",
        "hbi_server = \"developer.salesforce.com\"  # Base server domain for the VizQL API\n",
        "\n",
        "# Debug option for the API request (True enables debug mode)\n",
        "options_debug = False\n",
        "\n",
        "# Combine subdomain and server information to form the URL\n",
        "url = f\"{hbi_server}/{hbi_subdomain}\"\n",
        "\n",
        "# Construct the base path for the API request\n",
        "# Here, `base_path` represents the root URL for all API requests for this version\n",
        "base_path = f\"https://{url}/{api_version}\"\n",
        "\n",
        "# Define HTTP headers for the API request\n",
        "headers = {\n",
        "    \"Content-Type\": \"application/json\",  # Specify JSON content type for request payload\n",
        "    \"Credential-Key\": pat_name,  # Personal Access Token name for authentication\n",
        "    \"Credential-Value\": pat_secret  # Personal Access Token secret for authentication\n",
        "}\n",
        "\n",
        "# Complete URL for the metadata request\n",
        "# `request_metadata_url` points to the specific endpoint for metadata retrieval\n",
        "request_metadata_url = f\"{base_path}/read-metadata\""
      ]
    },
    {
      "cell_type": "markdown",
      "metadata": {
        "id": "Er9rkH2R1pnG"
      },
      "source": [
        "# Send a request to the API to get metadata about the datasource"
      ]
    },
    {
      "cell_type": "code",
      "execution_count": null,
      "metadata": {
        "id": "RCe4w2-k1nqX"
      },
      "outputs": [],
      "source": [
        "# Define the payload for the metadata request\n",
        "# Includes server, site, and datasource information along with optional parameters\n",
        "data = {\n",
        "    \"connection\": {\n",
        "        \"tableauServerName\": f\"{server_url}\",  # Server name or URL for the Tableau instance\n",
        "        \"siteId\": f\"{site_content_url}\",  # Site ID to specify the Tableau site within the server\n",
        "        \"datasource\": f\"{datasource}\"  # Name of the datasource for which metadata is needed\n",
        "    },\n",
        "    \"options\": {\n",
        "        \"debug\": options_debug  # Debug mode for request; set to True to enable debug information\n",
        "    }\n",
        "}\n",
        "\n",
        "# Make the POST request to the VizQL API endpoint to retrieve metadata\n",
        "response = requests.post(request_metadata_url, headers=headers, json=data)\n",
        "\n",
        "# Check if the request was successful (status code 200) and print the response data\n",
        "if response.ok:\n",
        "    # Parse and pretty-print JSON response if the request is successful\n",
        "    print(\"Response Data:\", json.dumps(response.json(), indent=4))\n",
        "else:\n",
        "    # Print an error message with the status code and response text if the request fails\n",
        "    print(\"Request failed:\", response.status_code, response.text)"
      ]
    }
  ],
  "metadata": {
    "colab": {
      "provenance": []
    },
    "kernelspec": {
      "display_name": "Python 3",
      "name": "python3"
    }
  },
  "nbformat": 4,
  "nbformat_minor": 0
}
