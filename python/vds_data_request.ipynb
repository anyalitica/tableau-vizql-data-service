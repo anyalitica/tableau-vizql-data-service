{
  "cells": [
    {
      "cell_type": "markdown",
      "metadata": {
        "id": "pfHfQAaT5pIk"
      },
      "source": [
        "# Install Twilio Python library"
      ]
    },
    {
      "cell_type": "code",
      "execution_count": null,
      "metadata": {
        "id": "bHP13Skw5tVW"
      },
      "outputs": [],
      "source": [
        "# Install Twilio library\n",
        "pip install twilio"
      ]
    },
    {
      "cell_type": "markdown",
      "metadata": {
        "id": "E2HHJWu842Ls"
      },
      "source": [
        "# Import libraries"
      ]
    },
    {
      "cell_type": "code",
      "execution_count": 1,
      "metadata": {
        "id": "NqJkSa9d49mu"
      },
      "outputs": [],
      "source": [
        "import requests\n",
        "import json\n",
        "import pandas as pd\n",
        "from twilio.rest import Client"
      ]
    },
    {
      "cell_type": "markdown",
      "metadata": {
        "id": "fo0IloLf5Gfb"
      },
      "source": [
        "# Configure variables to connect to Tableau Online"
      ]
    },
    {
      "cell_type": "code",
      "execution_count": null,
      "metadata": {
        "id": "3uZyFaGAfoeB"
      },
      "outputs": [],
      "source": [
        "# Tableau Online credentials\n",
        "server_url = 'your_server_url'  # Replace with your Tableau Online server URL\n",
        "site_content_url = 'your_site_content_url'  # Replace with your Tableau site ID\n",
        "api_version = 'v1'  # Use the version of VizQL Data Service API compatible with your Tableau instance\n",
        "pat_name = 'your_pat_name'  # Replace with your token name\n",
        "pat_secret = 'your_pat_secret'  # Replace with your access token secret\n",
        "\n",
        "# Name of the datasource for which metadata will be retrieved\n",
        "# The sample data source that is used in this example is stored in the sample_data folder\n",
        "datasource = 'coffee_orders'  # Replace with the specific name of your datasource in Tableau"
      ]
    },
    {
      "cell_type": "markdown",
      "metadata": {
        "id": "SxTvnDAi5M5Q"
      },
      "source": [
        "# Configure the VDS API connection"
      ]
    },
    {
      "cell_type": "code",
      "execution_count": null,
      "metadata": {
        "id": "2jP5diAQ5PVZ"
      },
      "outputs": [],
      "source": [
        "# VizQL API connection details\n",
        "hbi_subdomain = \"tools/tableau/headless-bi\"  # Path segment for VizQL Headless BI API endpoint\n",
        "hbi_server = \"developer.salesforce.com\"  # Base server domain for the VizQL API\n",
        "\n",
        "# Debug option for the API request (True enables debug mode)\n",
        "options_debug = False\n",
        "\n",
        "# Combine subdomain and server information to form the URL\n",
        "url = f\"{hbi_server}/{hbi_subdomain}\"\n",
        "\n",
        "# Construct the base path for the API request\n",
        "# Here, `base_path` represents the root URL for all API requests for this version\n",
        "base_path = f\"https://{url}/{api_version}\"\n",
        "\n",
        "# Define HTTP headers for the API request\n",
        "headers = {\n",
        "    \"Content-Type\": \"application/json\",  # Specify JSON content type for request payload\n",
        "    \"Credential-Key\": pat_name,  # Personal Access Token name for authentication\n",
        "    \"Credential-Value\": pat_secret  # Personal Access Token secret for authentication\n",
        "}\n",
        "\n",
        "# Complete URL for the data request\n",
        "# `request_data_url` points to the specific endpoint for data retrieval from the datasource\n",
        "request_data_url = f\"{base_path}/query-datasource\""
      ]
    },
    {
      "cell_type": "markdown",
      "metadata": {
        "id": "NX3DBcM05Z5D"
      },
      "source": [
        "# Send a request to the API to get data from the datasource"
      ]
    },
    {
      "cell_type": "code",
      "execution_count": null,
      "metadata": {
        "colab": {
          "base_uri": "https://localhost:8080/",
          "height": 239
        },
        "id": "Rp1uPECj5VlB",
        "outputId": "2471c691-a3a3-4230-c70d-7f80567b0016"
      },
      "outputs": [],
      "source": [
        "# Query to get only new orders to be delivered today in a selected borough (Camden)\n",
        "orders_to_deliver = {\n",
        "    \"connection\": {\n",
        "        \"tableauServerName\": f\"{server_url}\",\n",
        "        \"siteId\": f\"{site_content_url}\",\n",
        "        \"datasource\": f\"{datasource}\"\n",
        "    },\n",
        "    \"query\": {\n",
        "        \"columns\": [\n",
        "            {\n",
        "                \"columnName\": \"customer_name\"\n",
        "            },\n",
        "            {\n",
        "                \"columnName\": \"variety\"\n",
        "            },\n",
        "            {\n",
        "                \"columnName\": \"bags_count\",\n",
        "                \"function\": \"SUM\",\n",
        "                \"sortPriority\": 1,\n",
        "                \"sortDirection\": \"DESC\"\n",
        "            }\n",
        "        ],\n",
        "        \"filters\": [\n",
        "            {\n",
        "                \"columnName\": \"borough_name\",\n",
        "                \"filterType\": \"SET\",\n",
        "                \"exclude\": False,\n",
        "                \"values\": [\n",
        "                    \"Camden\"\n",
        "                ]\n",
        "            },\n",
        "            {\n",
        "                \"columnName\": \"order_status\",\n",
        "                \"filterType\": \"SET\",\n",
        "                \"exclude\": False,\n",
        "                \"values\": [\n",
        "                    \"new\"\n",
        "                ]\n",
        "            },\n",
        "            {\n",
        "                \"filterType\": \"DATE\",\n",
        "                \"columnName\": \"delivery_date\",\n",
        "                \"units\": \"DAYS\",\n",
        "                \"pastCount\": 1,\n",
        "                \"futureCount\": 0\n",
        "            }\n",
        "        ]\n",
        "    }\n",
        "}\n",
        "\n",
        "# Make the POST request to the specified API endpoint with given headers and JSON payload\n",
        "response = requests.post(request_data_url, headers=headers, json=orders_to_deliver)\n",
        "\n",
        "# Parse the JSON response from the server\n",
        "# - Converts the response content into a Python dictionary for easier data handling.\n",
        "data = response.json()\n",
        "\n",
        "# Check if the request was successful (i.e., HTTP status code 200)\n",
        "if response.ok:\n",
        "    # If the request succeeded, pretty-print the JSON response data for readability\n",
        "    print(\"Response Data:\", json.dumps(data, indent=4))\n",
        "else:\n",
        "    # If the request failed, print the HTTP status code and error message from the response\n",
        "    print(\"Request failed:\", response.status_code, response.text)\n",
        "\n",
        "# Convert the \"data\" part of the JSON to a DataFrame\n",
        "today_delivery_df = pd.DataFrame(data[\"data\"])\n",
        "today_delivery_df = today_delivery_df.rename(columns={\"SUM(bags_count)\": \"bags_count\"})\n",
        "\n",
        "print(today_delivery_df)"
      ]
    },
    {
      "cell_type": "markdown",
      "metadata": {
        "id": "aPj2dsT76Iy_"
      },
      "source": [
        "# Send a text message using Twilio API"
      ]
    },
    {
      "cell_type": "code",
      "execution_count": null,
      "metadata": {
        "id": "NtC2fCk16UOF"
      },
      "outputs": [],
      "source": [
        "# The section below takes the output from the dataframe today_delivery_df\n",
        "# and sends data points from it as an SMS message using Twilio service\n",
        "\n",
        "# Twilio credentials\n",
        "account_sid = 'your_account_sid'  # Twilio Account SID for authentication\n",
        "auth_token = 'your_auth_token'  # Twilio Auth Token for authentication\n",
        "twilio_number = 'your_twilio_number'  # Twilio phone number to send messages from\n",
        "target_phone = 'your_target_phone'  # Target phone number to send SMS to\n",
        "\n",
        "# Function to send SMS with sales data using Twilio\n",
        "def send_sms(sales_data):\n",
        "    # Initialize Twilio Client with account credentials\n",
        "    client = Client(account_sid, auth_token)\n",
        "\n",
        "    # Format the sales data for SMS message\n",
        "    # - Iterates over `today_delivery_df` to gather customer name, coffee variety, and bag count for each delivery.\n",
        "    # - Creates a formatted string for each delivery item and joins them with line breaks.\n",
        "    message_body = (\n",
        "        \"Today's deliveries:\\n\"\n",
        "        + \"\\n\".join(\n",
        "            f\"☕️ {row['customer_name']} ({row['variety']}, {row['bags_count']} bags)\"\n",
        "            for _, row in today_delivery_df.iterrows()\n",
        "        )\n",
        "        + \"\\nHave a brew-tiful day!\"\n",
        "    )\n",
        "\n",
        "    # Send the SMS message using Twilio's messaging service\n",
        "    # - `body` is the content of the SMS, formatted above.\n",
        "    # - `from_` specifies the Twilio number used for sending the message.\n",
        "    # - `to` is the target phone number of the recipient.\n",
        "    message = client.messages.create(\n",
        "        body=message_body,\n",
        "        from_=twilio_number,\n",
        "        to=target_phone\n",
        "    )\n",
        "\n",
        "    # Print the SID of the sent message for confirmation and tracking purposes\n",
        "    print(f\"Message sent with SID: {message.sid}\")\n",
        "\n",
        "# Send the SMS with the delivery data in `today_delivery_df`\n",
        "send_sms(today_delivery_df)\n"
      ]
    }
  ],
  "metadata": {
    "colab": {
      "provenance": []
    },
    "kernelspec": {
      "display_name": "Python 3",
      "name": "python3"
    },
    "language_info": {
      "name": "python"
    }
  },
  "nbformat": 4,
  "nbformat_minor": 0
}
